{
 "cells": [
  {
   "cell_type": "code",
   "execution_count": 203,
   "metadata": {},
   "outputs": [],
   "source": [
    "import numpy as np\n",
    "import pandas as pd\n",
    "import time\n",
    "from datetime import datetime\n",
    "import calendar\n",
    "\n",
    "\n",
    "\n",
    "\n",
    "\n",
    "\n",
    "\n"
   ]
  },
  {
   "cell_type": "code",
   "execution_count": 204,
   "metadata": {},
   "outputs": [],
   "source": [
    "def date_time_index(df):\n",
    "    df['datetime'] = pd.to_datetime(df['Datum']+df['Zeit'],format= \"%d-%m-%y%H:%M:%S\")\n",
    "    df.drop(['Datum','Zeit'],inplace=True,axis=1)\n",
    "    df['Wert'] = df['Wert'].str.replace(',', '.')\n",
    "    df=df.set_index('datetime')\n",
    "    return df"
   ]
  },
  {
   "cell_type": "code",
   "execution_count": 205,
   "metadata": {},
   "outputs": [],
   "source": [
    "def merge_wind(lis,name):\n",
    "    \n",
    "    power = pd.read_csv('{}.CSV'.format(lis[0]),sep=';',header = 4)\n",
    "    power.drop('Status',inplace=True,axis=1)\n",
    "    power_df = date_time_index(power)\n",
    "    \n",
    "    \n",
    "    wind_speed = pd.read_csv('{}.CSV'.format(lis[1]),sep=';',header = 4)\n",
    "    wind_speed.drop('Status',inplace=True,axis=1)\n",
    "    wind_speed_df = date_time_index(wind_speed)\n",
    "    \n",
    "    \n",
    "    wind_direction = pd.read_csv('{}.CSV'.format(lis[2]),sep=';',header = 4)\n",
    "    wind_direction.drop('Status',inplace=True,axis=1)\n",
    "    wind_direction_df = date_time_index(wind_direction)\n",
    "    \n",
    "    \n",
    "    temperature = pd.read_csv('{}.CSV'.format(lis[3]),sep=';',header = 4)\n",
    "    temperature.drop('Status',inplace=True,axis=1)\n",
    "    temperature_df = date_time_index(temperature)\n",
    "    temperature_df = temperature_df.resample('15T').sum().transform(lambda x: x.replace(to_replace=0, method='ffill'))\n",
    "\n",
    "    merge_df = power_df.merge(wind_speed_df,left_index=True, right_index=True)\n",
    "    merge_df = merge_df.merge(wind_direction_df,left_index=True, right_index=True)\n",
    "    merge_df = merge_df.merge(temperature_df,left_index=True, right_index=True)\n",
    "\n",
    "    merge_df.columns = ['power','wind_speed','wind_direction','temperature']\n",
    "    \n",
    "    merge_df.to_csv('{}.csv'.format(name),sep=',')\n"
   ]
  },
  {
   "cell_type": "code",
   "execution_count": 206,
   "metadata": {},
   "outputs": [],
   "source": [
    "merge_wind(['KWMGW1E1PW','KWMGW1K1PW','KWMGW1K2PW','GWAT_BHHPW'],'Meckel_1')\n",
    "merge_wind(['KWMGW4E1PW','KWMGW4K1PW','KWMGW4K2PW','GWAT_BHHPW'],'Meckel_4')\n",
    "merge_wind(['KWRFW3E1PW','KWRFW3K1PW','KWRFW3K2PW','KLHERKATPW'],'Reinsfeld_3')"
   ]
  },
  {
   "cell_type": "code",
   "execution_count": null,
   "metadata": {},
   "outputs": [],
   "source": []
  }
 ],
 "metadata": {
  "kernelspec": {
   "display_name": "Python 3",
   "language": "python",
   "name": "python3"
  },
  "language_info": {
   "codemirror_mode": {
    "name": "ipython",
    "version": 3
   },
   "file_extension": ".py",
   "mimetype": "text/x-python",
   "name": "python",
   "nbconvert_exporter": "python",
   "pygments_lexer": "ipython3",
   "version": "3.7.1"
  }
 },
 "nbformat": 4,
 "nbformat_minor": 2
}
