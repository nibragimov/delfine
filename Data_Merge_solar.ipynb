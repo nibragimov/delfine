{
 "cells": [
  {
   "cell_type": "code",
   "execution_count": 1,
   "metadata": {},
   "outputs": [],
   "source": [
    "import numpy as np\n",
    "import pandas as pd\n",
    "import time\n",
    "from datetime import datetime\n",
    "import calendar\n",
    "\n"
   ]
  },
  {
   "cell_type": "code",
   "execution_count": 2,
   "metadata": {},
   "outputs": [],
   "source": [
    "def date_time_index(df):\n",
    "    df['datetime'] = pd.to_datetime(df['Datum']+df['Zeit'],format= \"%d-%m-%y%H:%M:%S\")\n",
    "    df.drop(['Datum','Zeit'],inplace=True,axis=1)\n",
    "    df['Wert'] = df['Wert'].str.replace(',', '.')\n",
    "    df=df.set_index('datetime')\n",
    "    return df"
   ]
  },
  {
   "cell_type": "code",
   "execution_count": 8,
   "metadata": {},
   "outputs": [],
   "source": [
    "def merge_solar(lis,name):\n",
    "    \n",
    "    power = pd.read_csv('{}.CSV'.format(lis[0]),sep=';',header = 4)\n",
    "    power.drop('Status',inplace=True,axis=1)\n",
    "    power_df = date_time_index(power)\n",
    "    \n",
    "    \n",
    "    global_radiation = pd.read_csv('{}.CSV'.format(lis[1]),sep=';',header = 4)\n",
    "    global_radiation.drop('Status',inplace=True,axis=1)\n",
    "    global_radiation_df = date_time_index(global_radiation)\n",
    "    \n",
    "    \n",
    "    \n",
    "    temperature = pd.read_csv('{}.CSV'.format(lis[2]),sep=';',header = 4)\n",
    "    temperature.drop('Status',inplace=True,axis=1)\n",
    "    temperature_df = date_time_index(temperature)\n",
    "    temperature_df = temperature_df.resample('15T').sum().transform(lambda x: x.replace(to_replace=0, method='ffill'))\n",
    "\n",
    "    merge_df = power_df.merge(global_radiation_df,left_index=True, right_index=True)\n",
    "    merge_df = merge_df.merge(temperature_df,left_index=True, right_index=True)\n",
    "\n",
    "    merge_df.columns = ['power','global_radiation','temperature']\n",
    "    \n",
    "    merge_df.to_csv('{}.csv'.format(name),sep=',')"
   ]
  },
  {
   "cell_type": "code",
   "execution_count": 17,
   "metadata": {},
   "outputs": [],
   "source": [
    "merge_solar(['EWSKE_SUPW','KWM4ANK1PW','KLTEMP05PW'],'Kenn')\n",
    "merge_solar(['EWSKMESUPW','KWM4ANK1PW','KLTEMP05PW'],'MehringIII')\n",
    "merge_solar(['KWM4ANE3PW','KWM4ANK1PW','KLTEMP05PW'],'Mehring IV')"
   ]
  },
  {
   "cell_type": "code",
   "execution_count": null,
   "metadata": {},
   "outputs": [],
   "source": []
  }
 ],
 "metadata": {
  "kernelspec": {
   "display_name": "Python 3",
   "language": "python",
   "name": "python3"
  },
  "language_info": {
   "codemirror_mode": {
    "name": "ipython",
    "version": 3
   },
   "file_extension": ".py",
   "mimetype": "text/x-python",
   "name": "python",
   "nbconvert_exporter": "python",
   "pygments_lexer": "ipython3",
   "version": "3.7.1"
  }
 },
 "nbformat": 4,
 "nbformat_minor": 2
}
